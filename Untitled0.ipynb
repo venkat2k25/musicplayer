{
  "nbformat": 4,
  "nbformat_minor": 0,
  "metadata": {
    "colab": {
      "provenance": [],
      "authorship_tag": "ABX9TyPdFoRCi59ejsgjCtXagcCS",
      "include_colab_link": true
    },
    "kernelspec": {
      "name": "python3",
      "display_name": "Python 3"
    },
    "language_info": {
      "name": "python"
    }
  },
  "cells": [
    {
      "cell_type": "markdown",
      "metadata": {
        "id": "view-in-github",
        "colab_type": "text"
      },
      "source": [
        "<a href=\"https://colab.research.google.com/github/venkat2k25/musicplayer/blob/main/Untitled0.ipynb\" target=\"_parent\"><img src=\"https://colab.research.google.com/assets/colab-badge.svg\" alt=\"Open In Colab\"/></a>"
      ]
    },
    {
      "cell_type": "code",
      "execution_count": 1,
      "metadata": {
        "colab": {
          "base_uri": "https://localhost:8080/"
        },
        "id": "KnhFuCHSqY0n",
        "outputId": "c49351c9-cf0e-4d57-dd9a-8734d1635036"
      },
      "outputs": [
        {
          "output_type": "stream",
          "name": "stdout",
          "text": [
            "Enter a string: 343\n",
            "The given string is a palindrome.\n"
          ]
        }
      ],
      "source": [
        "def check_palindrome(input_string):\n",
        "    input_string = input_string.lower()\n",
        "    start = 0\n",
        "    end = len(input_string) - 1\n",
        "\n",
        "    while start < end:\n",
        "        if input_string[start] != input_string[end]:\n",
        "            return False\n",
        "        start += 1\n",
        "        end -= 1\n",
        "    return True\n",
        "\n",
        "\n",
        "input_string = input(\"Enter a string: \")\n",
        "if check_palindrome(input_string):\n",
        "    print(\"The given string is a palindrome.\")\n",
        "else:\n",
        "    print(\"The given string is not a palindrome.\")"
      ]
    }
  ]
}